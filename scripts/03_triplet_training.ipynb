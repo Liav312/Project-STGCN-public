{
 "cells": [
  {
   "cell_type": "markdown",
   "id": "f0421225",
   "metadata": {},
   "source": [
    "# ST-GCN Triplet Training"
   ]
  },
  {
   "cell_type": "markdown",
   "id": "2ca7de99",
   "metadata": {},
   "source": [
    "This notebook fine-tunes ST-GCN using triplet loss and shows progress with `tqdm`."
   ]
  },
  {
   "cell_type": "code",
   "execution_count": null,
   "id": "6ebff47b",
   "metadata": {},
   "outputs": [],
   "source": [
    "\n",
    "import random\n",
    "from pathlib import Path\n",
    "\n",
    "import torch\n",
    "from torch.utils.data import DataLoader\n",
    "import torch.nn.functional as F\n",
    "from tqdm.notebook import tqdm\n",
    "\n",
    "from utils.config_loader import load_config\n",
    "from utils.stgcn_backbone import load_pretrained\n",
    "from datasets import TripletDataset\n",
    "\n",
    "STGCN_ROOT = Path('model/stgcn_ntu_init.pth')\n"
   ]
  },
  {
   "cell_type": "code",
   "execution_count": null,
   "id": "99d5b7c1",
   "metadata": {},
   "outputs": [],
   "source": [
    "\n",
    "cfg = load_config()\n",
    "device = torch.device('cuda' if torch.cuda.is_available() else 'cpu')\n",
    "\n",
    "if not STGCN_ROOT.is_file():\n",
    "    raise FileNotFoundError(f\"Pretrained weights not found: {STGCN_ROOT}\")\n",
    "\n",
    "model = load_pretrained(STGCN_ROOT, STGCN_ROOT, in_channels=16, num_class=128)\n",
    "\n",
    "for p in list(model.st_gcn_networks)[:3]:\n",
    "    for param in p.parameters():\n",
    "        param.requires_grad = False\n",
    "model.to(device)\n",
    "\n",
    "# dataset\n",
    "ds = TripletDataset(cfg.PROCESSED_DATA_DIR, cfg)\n",
    "indices = list(range(len(ds)))\n",
    "random.shuffle(indices)\n",
    "split = int(0.8 * len(indices))\n",
    "train_idx = indices[:split]\n",
    "val_idx = indices[split:]\n",
    "\n",
    "train_dl = DataLoader(ds, batch_size=cfg.TRIPLET_BATCH_SIZE,\n",
    "                      sampler=torch.utils.data.SubsetRandomSampler(train_idx))\n",
    "val_dl = DataLoader(ds, batch_size=cfg.TRIPLET_BATCH_SIZE,\n",
    "                    sampler=torch.utils.data.SubsetRandomSampler(val_idx))\n",
    "\n",
    "opt = torch.optim.Adam(filter(lambda p: p.requires_grad, model.parameters()),\n",
    "                       lr=cfg.TRIPLET_LR, weight_decay=1e-5)\n",
    "criterion = torch.nn.TripletMarginLoss(margin=0.2, p=2)\n"
   ]
  },
  {
   "cell_type": "code",
   "execution_count": null,
   "id": "c0d1383e",
   "metadata": {},
   "outputs": [],
   "source": [
    "\n",
    "for epoch in range(cfg.TRIPLET_EPOCHS):\n",
    "    model.train()\n",
    "    for a, p, n in tqdm(train_dl, desc=f'Train {epoch+1}/{cfg.TRIPLET_EPOCHS}'):\n",
    "        a = a.to(device).permute(0, 2, 1).unsqueeze(-1).unsqueeze(-1)\n",
    "        p = p.to(device).permute(0, 2, 1).unsqueeze(-1).unsqueeze(-1)\n",
    "        n = n.to(device).permute(0, 2, 1).unsqueeze(-1).unsqueeze(-1)\n",
    "        z_a = torch.nn.functional.normalize(model(a), dim=1)\n",
    "        z_p = torch.nn.functional.normalize(model(p), dim=1)\n",
    "        z_n = torch.nn.functional.normalize(model(n), dim=1)\n",
    "        loss = criterion(z_a, z_p, z_n)\n",
    "        loss.backward()\n",
    "        opt.step()\n",
    "        opt.zero_grad()\n",
    "\n",
    "    model.eval()\n",
    "    cos_ap = 0.0\n",
    "    cos_an = 0.0\n",
    "    count = 0\n",
    "    with torch.no_grad():\n",
    "        for a, p, n in tqdm(val_dl, desc='Validate'):\n",
    "            a = a.to(device).permute(0, 2, 1).unsqueeze(-1).unsqueeze(-1)\n",
    "            p = p.to(device).permute(0, 2, 1).unsqueeze(-1).unsqueeze(-1)\n",
    "            n = n.to(device).permute(0, 2, 1).unsqueeze(-1).unsqueeze(-1)\n",
    "            z_a = torch.nn.functional.normalize(model(a), dim=1)\n",
    "            z_p = torch.nn.functional.normalize(model(p), dim=1)\n",
    "            z_n = torch.nn.functional.normalize(model(n), dim=1)\n",
    "            cos_ap += (z_a * z_p).sum(-1).mean().item()\n",
    "            cos_an += (z_a * z_n).sum(-1).mean().item()\n",
    "            count += 1\n",
    "    cos_ap /= max(1, count)\n",
    "    cos_an /= max(1, count)\n",
    "    print(f'Epoch {epoch+1}/{cfg.TRIPLET_EPOCHS} val cos+={cos_ap:.3f} cos-={cos_an:.3f}')\n"
   ]
  },
  {
   "cell_type": "code",
   "execution_count": null,
   "id": "4d4fe27b",
   "metadata": {},
   "outputs": [],
   "source": [
    "\n",
    "# Save trained model\n",
    "out_path = cfg.PROCESSED_DATA_DIR / 'stgcn_triplet_suemd.pth'\n",
    "torch.save(model.state_dict(), out_path)\n",
    "print(f'Saved model to {out_path}')\n"
   ]
  },
  {
   "cell_type": "markdown",
   "id": "60b700de",
   "metadata": {},
   "source": [
    "To export this notebook to HTML, run the following command from the repository root:\n",
    "\n",
    "```bash\n",
    "jupyter nbconvert --to html notebooks/training/triplet_training.ipynb --output-dir notebooks/exported\n",
    "```\n"
   ]
  }
 ],
 "metadata": {
  "language_info": {
   "name": "python"
  }
 },
 "nbformat": 4,
 "nbformat_minor": 5
}
